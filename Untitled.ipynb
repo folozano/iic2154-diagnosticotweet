{
 "cells": [
  {
   "cell_type": "markdown",
   "metadata": {},
   "source": [
    "# IIC2154 - Evaluación Diagnóstica\n",
    "## Francisco Lozano Moore\n",
    "---"
   ]
  },
  {
   "cell_type": "markdown",
   "metadata": {},
   "source": [
    "### Carga y limpieza de datos\n",
    "Como primer paso, se procederá a cargar el archivo que contiene la base de datos."
   ]
  },
  {
   "cell_type": "markdown",
   "metadata": {},
   "source": [
    "Esta tarea será realizada utilizando el código de Pratham Sharma como inspiración, disponible en el siguiente enlace: https://www.kaggle.com/code/prathamsharma123/clean-raw-json-tweets-data"
   ]
  },
  {
   "cell_type": "markdown",
   "metadata": {},
   "source": [
    "Dicho lo anterior, se comenzará por importar las librerías necesarias para el manejo del archivo en cuestión."
   ]
  },
  {
   "cell_type": "code",
   "execution_count": 1,
   "metadata": {},
   "outputs": [],
   "source": [
    "import re\n",
    "import pandas as pd\n",
    "from pandas.io.json import json_normalize"
   ]
  },
  {
   "cell_type": "markdown",
   "metadata": {},
   "source": [
    "Ahora que se cuenta con las librerías necesarias, se procede a almacenar los datos."
   ]
  },
  {
   "cell_type": "code",
   "execution_count": null,
   "metadata": {},
   "outputs": [],
   "source": [
    "data_original = pd.read_json(r\"/Users/francisco/Desktop/farmers-protest-tweets-2021-03-5.json\", lines=True)\n",
    "data_original.head(5)"
   ]
  },
  {
   "cell_type": "markdown",
   "metadata": {},
   "source": [
    "Ahora bien, es posible ver que existe la clara posibilidad de que muchos de los tweets contenidos en la base de datos sean escritos en idiomas distintos al inglés, motivo por el cual debemos limpiar la base de datos antes de poder trabajar con ella."
   ]
  },
  {
   "cell_type": "code",
   "execution_count": null,
   "metadata": {},
   "outputs": [],
   "source": [
    "data_original = data_original[data_original['lang']=='en']\n",
    "data_original.head(5)"
   ]
  },
  {
   "cell_type": "code",
   "execution_count": null,
   "metadata": {},
   "outputs": [],
   "source": []
  }
 ],
 "metadata": {
  "kernelspec": {
   "display_name": "Python 3",
   "language": "python",
   "name": "python3"
  },
  "language_info": {
   "codemirror_mode": {
    "name": "ipython",
    "version": 3
   },
   "file_extension": ".py",
   "mimetype": "text/x-python",
   "name": "python",
   "nbconvert_exporter": "python",
   "pygments_lexer": "ipython3",
   "version": "3.9.0"
  }
 },
 "nbformat": 4,
 "nbformat_minor": 4
}
